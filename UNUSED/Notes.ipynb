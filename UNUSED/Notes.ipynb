{
 "cells": [
  {
   "cell_type": "markdown",
   "metadata": {},
   "source": [
    "# Matrix matematik bibliotek noter\n",
    "\n",
    "Disse noter forsøger at afdække alle funktioner i det hjemmelavede matrix matematik bibliotek. Da disse er nødvendige for opbygningen af et fremtidigt Neural Network\n"
   ]
  },
  {
   "cell_type": "code",
   "execution_count": 24,
   "metadata": {},
   "outputs": [],
   "source": [
    "import matrix_math as mm"
   ]
  },
  {
   "cell_type": "markdown",
   "metadata": {},
   "source": [
    "#### Funktion: list_2_matrix og pretty_print\n",
    "\n",
    "Denne funktion benyttes til at omskrive et input i liste format til et matrix objekt. Her ses også funktionen pretty_print"
   ]
  },
  {
   "cell_type": "code",
   "execution_count": 25,
   "metadata": {},
   "outputs": [],
   "source": [
    "m = mm.Matrix.list_2_matrix([2,2,2,2,2,2])"
   ]
  },
  {
   "cell_type": "code",
   "execution_count": 26,
   "metadata": {},
   "outputs": [
    {
     "name": "stdout",
     "output_type": "stream",
     "text": [
      "[2]\n",
      "[2]\n",
      "[2]\n",
      "[2]\n",
      "[2]\n",
      "[2]\n",
      "\n"
     ]
    }
   ],
   "source": [
    "m.pretty_print()"
   ]
  },
  {
   "cell_type": "markdown",
   "metadata": {},
   "source": [
    "#### Initialisering af Matrix objekt samt funktionen randomize\n",
    "\n",
    "Ved inititalisering af et matrix objekt kræves 2 argumenter: Antallet af rækker og antaller af kolonner. Her ses også funktionen randomize. randomize giver hver værdi i matrixet en værdi mellem -1 og 1"
   ]
  },
  {
   "cell_type": "code",
   "execution_count": 27,
   "metadata": {},
   "outputs": [
    {
     "name": "stdout",
     "output_type": "stream",
     "text": [
      "[-0.47, -0.0, -0.85]\n",
      "[-0.02, 0.76, -0.7]\n",
      "\n"
     ]
    }
   ],
   "source": [
    "m = mm.Matrix(2,3)\n",
    "\n",
    "m.randomize()\n",
    "\n",
    "m.pretty_print()"
   ]
  },
  {
   "cell_type": "markdown",
   "metadata": {},
   "source": [
    "#### Funktioner: add og subtract\n",
    "\n",
    "Funktionen add kaldes på nuværende tidspunkt på et allerede eksisterende matrix. Dette gør funktion subtract ikke. Den tager et matrix som argument sammen med en subtracter og returnere et nyt matrix. **Dette skal ændres i fremtiden!**\n",
    "\n",
    "Der kan også argumenteres for at subtract funktionen er overflødig da en negativ adder svare til en subtracter\n",
    "\n",
    "Det skal også nævnes at adderen og subtracteren både kan være en talværdi, men kan også være et andet matrix objekt. I dette tilfælde vil 2 korresponderende elementer i det 2 matricer bliver plusset eller minuset sammen"
   ]
  },
  {
   "cell_type": "code",
   "execution_count": 28,
   "metadata": {},
   "outputs": [
    {
     "name": "stdout",
     "output_type": "stream",
     "text": [
      "start values\n",
      "[-0.47, -0.0, -0.85]\n",
      "[-0.02, 0.76, -0.7]\n",
      "\n",
      "add\n",
      "[1.53, 2.0, 1.15]\n",
      "[1.98, 2.76, 1.3]\n",
      "\n",
      "subtract\n",
      "[-0.47, 0.0, -0.8500000000000001]\n",
      "[-0.020000000000000018, 0.7599999999999998, -0.7]\n",
      "\n"
     ]
    }
   ],
   "source": [
    "print(\"start values\")\n",
    "m.pretty_print()\n",
    "\n",
    "print(\"add\")\n",
    "m.add(2)\n",
    "m.pretty_print()\n",
    "\n",
    "print(\"subtract\")\n",
    "m = mm.Matrix.subtract(m, 2)\n",
    "m.pretty_print()\n"
   ]
  },
  {
   "cell_type": "markdown",
   "metadata": {},
   "source": [
    "Her ses et eksempel hvor m plusses oven i m2"
   ]
  },
  {
   "cell_type": "code",
   "execution_count": 29,
   "metadata": {},
   "outputs": [
    {
     "name": "stdout",
     "output_type": "stream",
     "text": [
      "m: \n",
      "[0.66, -0.18, -0.52]\n",
      "[0.96, 0.32, 0.24]\n",
      "\n",
      "m2: \n",
      "[-0.94, -0.73, -0.25]\n",
      "[-0.09, -0.5, -0.38]\n",
      "\n",
      "m2 efter addition\n",
      "[-0.2799999999999999, -0.9099999999999999, -0.77]\n",
      "[0.87, -0.18, -0.14]\n",
      "\n"
     ]
    }
   ],
   "source": [
    "m = mm.Matrix(2,3)\n",
    "\n",
    "m.randomize()\n",
    "\n",
    "m2 = mm.Matrix(2,3)\n",
    "\n",
    "m2.randomize()\n",
    "\n",
    "print(\"m: \")\n",
    "m.pretty_print()\n",
    "\n",
    "print(\"m2: \")\n",
    "m2.pretty_print()\n",
    "\n",
    "m2.add(m)\n",
    "\n",
    "print(\"m2 efter addition\")\n",
    "m2.pretty_print()\n"
   ]
  },
  {
   "cell_type": "markdown",
   "metadata": {},
   "source": [
    "#### Funktion: mult\n",
    "\n",
    "mult gør som navnet hentyder til. Den ganger matrixet med en given mulitiplyer eller et andet matrix\n",
    "\n",
    "Funktionen mult kaldes på nuværende tidspunkt på et allerede eksisterende matrix."
   ]
  },
  {
   "cell_type": "code",
   "execution_count": 30,
   "metadata": {},
   "outputs": [
    {
     "name": "stdout",
     "output_type": "stream",
     "text": [
      "m: \n",
      "[0.28, -0.98, -0.09]\n",
      "[0.3, 0.08, -0.31]\n",
      "\n",
      "m2: \n",
      "[0.94, -0.47, 0.19]\n",
      "[0.46, -0.56, 0.97]\n",
      "\n",
      "m2 efter multiplikation: \n",
      "[0.2632, 0.46059999999999995, -0.0171]\n",
      "[0.138, -0.044800000000000006, -0.30069999999999997]\n",
      "\n"
     ]
    }
   ],
   "source": [
    "m = mm.Matrix(2,3)\n",
    "\n",
    "m.randomize()\n",
    "\n",
    "m2 = mm.Matrix(2,3)\n",
    "\n",
    "m2.randomize()\n",
    "\n",
    "print(\"m: \")\n",
    "m.pretty_print()\n",
    "\n",
    "print(\"m2: \")\n",
    "m2.pretty_print()\n",
    "\n",
    "m2.mult(m)\n",
    "\n",
    "print(\"m2 efter multiplikation: \")\n",
    "m2.pretty_print()"
   ]
  },
  {
   "cell_type": "markdown",
   "metadata": {},
   "source": [
    "Her ses et eksempel hvor m ganges med en multiplyer. I dette tilfælde tallet 2"
   ]
  },
  {
   "cell_type": "code",
   "execution_count": 31,
   "metadata": {},
   "outputs": [
    {
     "name": "stdout",
     "output_type": "stream",
     "text": [
      "m: \n",
      "[0.28, -0.98, -0.09]\n",
      "[0.3, 0.08, -0.31]\n",
      "\n",
      "m efter multiplikation: \n",
      "[0.56, -1.96, -0.18]\n",
      "[0.6, 0.16, -0.62]\n",
      "\n"
     ]
    }
   ],
   "source": [
    "print(\"m: \")\n",
    "\n",
    "m.pretty_print()\n",
    "\n",
    "m.mult(2)\n",
    "\n",
    "print(\"m efter multiplikation: \")\n",
    "m.pretty_print()"
   ]
  },
  {
   "cell_type": "markdown",
   "metadata": {},
   "source": [
    "#### Funktion: dot_product\n",
    "\n",
    "Den funktion kaldes ikke på et specifikt matrix men tager tog matricer som argument og returnerer et nyt matrix. Det er vigtigt at huske på reglerne på prik produktet. Rækkerne i det ene matrix skal svare til kolonnerne i det andet matrix.\n",
    "\n",
    "Her ses et eksempel hvor der tages krydsproduktet af tog matricer"
   ]
  },
  {
   "cell_type": "code",
   "execution_count": 32,
   "metadata": {},
   "outputs": [
    {
     "name": "stdout",
     "output_type": "stream",
     "text": [
      "m: \n",
      "[0.46, 0.65, 0.11]\n",
      "[-0.26, 0.45, 0.03]\n",
      "\n",
      "m2: \n",
      "[0.11, -0.29]\n",
      "[-0.61, -0.04]\n",
      "[0.02, 0.95]\n",
      "\n",
      "Dot product: \n",
      "[-0.34370000000000006, -0.05489999999999999]\n",
      "[-0.30250000000000005, 0.08589999999999999]\n",
      "\n"
     ]
    }
   ],
   "source": [
    "m = mm.Matrix(2,3)\n",
    "\n",
    "m.randomize()\n",
    "\n",
    "m2 = mm.Matrix(3,2)\n",
    "\n",
    "m2.randomize()\n",
    "\n",
    "print(\"m: \")\n",
    "m.pretty_print()\n",
    "\n",
    "print(\"m2: \")\n",
    "m2.pretty_print()\n",
    "\n",
    "print(\"Dot product: \")\n",
    "m3 = mm.Matrix.dot_product(m, m2)\n",
    "m3.pretty_print()"
   ]
  },
  {
   "cell_type": "markdown",
   "metadata": {},
   "source": [
    "Her ses udregningen for den første værdi i krydsproduktet af de 2 matricer"
   ]
  },
  {
   "cell_type": "code",
   "execution_count": 33,
   "metadata": {},
   "outputs": [
    {
     "data": {
      "text/plain": [
       "-0.6977"
      ]
     },
     "execution_count": 33,
     "metadata": {},
     "output_type": "execute_result"
    }
   ],
   "source": [
    "(-0.36*0.27)+(-0.33*0.95)+(-0.82*0.35)"
   ]
  },
  {
   "cell_type": "markdown",
   "metadata": {},
   "source": [
    "#### Funktion: transpose\n",
    "\n",
    "Funktionen transpose kaldes ikke på et specifik matrix, men tager et matrix som argument og returnerer et nyt matrix. Funktionens formål er at \"vende\" et matrix sådan at rækker bliver til kolonner og kolonner til rækker."
   ]
  },
  {
   "cell_type": "code",
   "execution_count": 34,
   "metadata": {},
   "outputs": [
    {
     "name": "stdout",
     "output_type": "stream",
     "text": [
      "m: \n",
      "[-0.38, 0.6, -0.54]\n",
      "[0.86, 0.23, -0.21]\n",
      "\n",
      "m efter transpose: \n",
      "[-0.38, 0.86]\n",
      "[0.6, 0.23]\n",
      "[-0.54, -0.21]\n",
      "\n"
     ]
    }
   ],
   "source": [
    "m = mm.Matrix(2,3)\n",
    "\n",
    "m.randomize()\n",
    "\n",
    "print(\"m: \")\n",
    "m.pretty_print()\n",
    "\n",
    "print(\"m efter transpose: \")\n",
    "mt = m.transpose(m)\n",
    "mt.pretty_print()"
   ]
  },
  {
   "cell_type": "markdown",
   "metadata": {},
   "source": [
    "#### Funktion: map\n",
    "\n",
    "Funktionen map fører alle værdier i et matrix igennem en given funktion. Dette kunne være den logistiske sigmoid funktion i tilfældet af et Neural Network.\n",
    "\n",
    "math funktion exp returnere e^x"
   ]
  },
  {
   "cell_type": "code",
   "execution_count": 35,
   "metadata": {},
   "outputs": [
    {
     "name": "stdout",
     "output_type": "stream",
     "text": [
      "m: \n",
      "[0.57, 0.81, 0.51]\n",
      "[0.27, -0.15, -0.83]\n",
      "\n",
      "m efter sigmoid: \n",
      "[0.6387631751488418, 0.6921095043017882, 0.6248064744684293]\n",
      "[0.5670929049654543, 0.46257015465625045, 0.3036450701761659]\n",
      "\n"
     ]
    }
   ],
   "source": [
    "from math import exp\n",
    "\n",
    "def sigmoid(x):\n",
    "    return 1/(1+exp(-x))\n",
    "\n",
    "m = mm.Matrix(2,3)\n",
    "\n",
    "m.randomize()\n",
    "\n",
    "print(\"m: \")\n",
    "m.pretty_print()\n",
    "\n",
    "print(\"m efter sigmoid: \")\n",
    "m.map(sigmoid)\n",
    "m.pretty_print()"
   ]
  },
  {
   "cell_type": "markdown",
   "metadata": {},
   "source": [
    "# Test af NeuralNetwork_simple.py"
   ]
  },
  {
   "cell_type": "code",
   "execution_count": 29,
   "metadata": {},
   "outputs": [],
   "source": [
    "import NeuralNetwork_simple\n",
    "import matrix_math as mm"
   ]
  },
  {
   "cell_type": "code",
   "execution_count": 32,
   "metadata": {},
   "outputs": [
    {
     "name": "stdout",
     "output_type": "stream",
     "text": [
      "[-0.22, 0.21, -1.0, 0.56, -0.78, -0.33, 0.6, 0.82, 0.08, 0.54]\n",
      "[-0.5, 0.49, -0.34, 0.26, -0.53, 0.53, 0.89, -0.83, 0.45, -0.19]\n",
      "[0.69, 0.74, 0.49, 0.13, 0.61, 0.5, 0.87, 0.02, -0.23, 0.89]\n",
      "[-0.97, 0.98, -0.92, -0.65, -0.46, 0.23, 0.32, 0.4, -0.39, 0.46]\n",
      "[-0.97, 0.19, -0.83, 0.92, -0.9, -0.36, -0.53, 0.04, 0.44, -0.48]\n",
      "[0.53, -0.34, 0.42, -0.72, -0.89, -0.21, 0.59, -0.77, -0.48, -0.57]\n",
      "[-0.2, -0.33, 0.29, -0.31, 0.56, -0.18, -0.52, 0.53, 0.91, 0.67]\n",
      "[0.06, -0.3, -0.21, -0.6, 0.36, -1.0, -0.52, -0.42, 0.67, 0.77]\n",
      "[0.05, -0.18, -0.55, -0.64, -0.98, 0.2, 0.16, -0.8, 0.79, -0.12]\n",
      "[-0.01, 0.41, -0.88, 0.0, 0.62, 0.04, 0.48, 0.59, 0.27, -0.85]\n",
      "[0.66, 0.98, -0.91, -0.9, 0.57, -0.84, 0.98, 0.22, -0.4, 0.77]\n",
      "[-0.96, 0.88, -0.43, -0.13, -0.06, -0.23, 0.41, -0.42, 0.83, 0.3]\n",
      "[0.99, 0.27, 0.55, 0.46, 0.53, 0.2, -0.55, -0.88, -0.83, 0.3]\n",
      "[-0.77, 0.77, -0.3, -0.59, 0.65, -0.06, 0.99, -0.6, -0.21, 0.44]\n",
      "\n",
      "[-0.95, -0.66, -0.07, 0.59, 0.55, -0.38, 0.27, -0.71, -0.39, -0.39, 0.23, 0.11, 0.48, -0.27]\n",
      "[0.37, -0.84, -0.75, -0.41, -0.73, 0.21, 0.94, 0.12, -0.74, 0.04, -0.16, 0.06, -0.74, 0.81]\n",
      "\n"
     ]
    },
    {
     "ename": "AttributeError",
     "evalue": "'NeuralNetwork' object has no attribute 'test'",
     "output_type": "error",
     "traceback": [
      "\u001b[0;31m---------------------------------------------------------------------------\u001b[0m",
      "\u001b[0;31mAttributeError\u001b[0m                            Traceback (most recent call last)",
      "Cell \u001b[0;32mIn[32], line 7\u001b[0m\n\u001b[1;32m      3\u001b[0m nn\u001b[38;5;241m.\u001b[39mhidden_layer_weights\u001b[38;5;241m.\u001b[39mpretty_print()\n\u001b[1;32m      5\u001b[0m nn\u001b[38;5;241m.\u001b[39moutput_layer_weights\u001b[38;5;241m.\u001b[39mpretty_print()\n\u001b[0;32m----> 7\u001b[0m \u001b[43mnn\u001b[49m\u001b[38;5;241;43m.\u001b[39;49m\u001b[43mtest\u001b[49m()\n",
      "\u001b[0;31mAttributeError\u001b[0m: 'NeuralNetwork' object has no attribute 'test'"
     ]
    }
   ],
   "source": [
    "nn = NeuralNetwork_simple.NeuralNetwork(10,14,2)\n",
    "\n",
    "nn.hidden_layer_weights.pretty_print()\n",
    "\n",
    "nn.output_layer_weights.pretty_print()\n",
    "\n",
    "nn.test()"
   ]
  }
 ],
 "metadata": {
  "kernelspec": {
   "display_name": "Python 3",
   "language": "python",
   "name": "python3"
  },
  "language_info": {
   "codemirror_mode": {
    "name": "ipython",
    "version": 3
   },
   "file_extension": ".py",
   "mimetype": "text/x-python",
   "name": "python",
   "nbconvert_exporter": "python",
   "pygments_lexer": "ipython3",
   "version": "3.10.12"
  }
 },
 "nbformat": 4,
 "nbformat_minor": 2
}
